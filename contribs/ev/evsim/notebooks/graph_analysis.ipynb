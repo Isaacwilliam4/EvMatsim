{
 "cells": [
  {
   "cell_type": "code",
   "execution_count": 6,
   "metadata": {},
   "outputs": [],
   "source": [
    "from torch_geometric.data import Data\n",
    "import torch\n",
    "import matplotlib.pyplot as plt\n",
    "import sys\n",
    "import os\n",
    "\n",
    "sys.path.append(os.path.abspath(\"../evsim\"))\n",
    "from classes.matsim_xml_dataset import MatsimXMLDataset"
   ]
  },
  {
   "cell_type": "code",
   "execution_count": 7,
   "metadata": {},
   "outputs": [
    {
     "name": "stdout",
     "output_type": "stream",
     "text": [
      "tensor([1., 1., 1.])\n",
      "tensor([0., 0., 0.])\n"
     ]
    }
   ],
   "source": [
    "network_xml_path = \"/home/isaacp/repos/EvMatsim/contribs/ev/script_scenarios/utahevscenario/utahevnetwork.xml\"\n",
    "charger_xml_path = \"/home/isaacp/repos/EvMatsim/contribs/ev/script_scenarios/utahevscenario/utahevchargers.xml\"\n",
    "charger_dict = {\n",
    "    \"none\": 0,\n",
    "    # in matsim the default charger is a static charger we could update this dictionary\n",
    "    # to include different charger types along with charger cost and other attributes\n",
    "    # the graph uses this dictionary to map the charger type to an integer\n",
    "    \"default\": 1,\n",
    "    \"dynamic\": 2,\n",
    "}\n",
    "dataset = MatsimXMLDataset(network_xml_path, charger_xml_path, charger_dict)\n",
    "graph: Data = dataset.get_graph()"
   ]
  },
  {
   "cell_type": "code",
   "execution_count": 8,
   "metadata": {},
   "outputs": [
    {
     "name": "stdout",
     "output_type": "stream",
     "text": [
      "Data(x=[25170, 1], pos=[25170, 2], edge_index=[2, 33848], edge_attr=[33848, 6])\n"
     ]
    }
   ],
   "source": [
    "print(graph)"
   ]
  },
  {
   "cell_type": "code",
   "execution_count": 10,
   "metadata": {},
   "outputs": [
    {
     "name": "stdout",
     "output_type": "stream",
     "text": [
      "torch.Size([33848, 3])\n"
     ]
    }
   ],
   "source": [
    "charger_type_start_idx = -len(dataset.charger_dict)\n",
    "charger_type = graph.edge_attr[:, charger_type_start_idx:]\n",
    "print(charger_type.shape)"
   ]
  },
  {
   "cell_type": "code",
   "execution_count": 11,
   "metadata": {},
   "outputs": [
    {
     "data": {
      "image/png": "[encoded data removed]",
      "text/plain": [
       "<Figure size 640x480 with 1 Axes>"
      ]
     },
     "metadata": {},
     "output_type": "display_data"
    }
   ],
   "source": [
    "values = [\n",
    "    torch.sum(charger_type[:, 0]),\n",
    "    torch.sum(charger_type[:, 1]),\n",
    "    torch.sum(charger_type[:, 2]),\n",
    "]\n",
    "plt.bar(x=[\"no charger\", \"static charger\", \"dynamic charger\"], height=values)\n",
    "\n",
    "for i, value in enumerate(values):\n",
    "    plt.text(i, value + 0.5, str(value.item()), ha=\"center\", va=\"bottom\")"
   ]
  },
  {
   "cell_type": "code",
   "execution_count": 12,
   "metadata": {},
   "outputs": [
    {
     "name": "stdout",
     "output_type": "stream",
     "text": [
      "{'length': 0, 'freespeed': 1, 'capacity': 2, 'none': 3, 'default': 4, 'dynamic': 5}\n"
     ]
    }
   ],
   "source": [
    "print(dataset.edge_attr_mapping)"
   ]
  },
  {
   "cell_type": "code",
   "execution_count": 13,
   "metadata": {},
   "outputs": [
    {
     "name": "stdout",
     "output_type": "stream",
     "text": [
      "length: maxval = 1.0, minval = 0.0\n",
      "freespeed: maxval = 1.0, minval = 0.0\n",
      "capacity: maxval = 1.0, minval = 0.0\n",
      "none: maxval = 1.0, minval = 0.0\n",
      "default: maxval = 1.0, minval = 0.0\n",
      "dynamic: maxval = 1.0, minval = 0.0\n"
     ]
    }
   ],
   "source": [
    "for attr, idx in dataset.edge_attr_mapping.items():\n",
    "    vals = graph.edge_attr[:, idx]\n",
    "\n",
    "    print(f\"{attr}: maxval = {torch.max(vals)}, minval = {torch.min(vals)}\")"
   ]
  }
 ],
 "metadata": {
  "kernelspec": {
   "display_name": "matsimenv",
   "language": "python",
   "name": "python3"
  },
  "language_info": {
   "codemirror_mode": {
    "name": "ipython",
    "version": 3
   },
   "file_extension": ".py",
   "mimetype": "text/x-python",
   "name": "python",
   "nbconvert_exporter": "python",
   "pygments_lexer": "ipython3",
   "version": "3.8.20"
  }
 },
 "nbformat": 4,
 "nbformat_minor": 2
}
