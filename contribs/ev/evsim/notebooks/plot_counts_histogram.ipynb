{
 "cells": [
  {
   "cell_type": "code",
   "execution_count": 102,
   "metadata": {},
   "outputs": [],
   "source": [
    "import pandas as pd \n",
    "import matplotlib.pyplot as plt\n",
    "import numpy as np"
   ]
  },
  {
   "cell_type": "code",
   "execution_count": 103,
   "metadata": {},
   "outputs": [
    {
     "data": {
      "text/html": [
       "<div>\n",
       "<style scoped>\n",
       "    .dataframe tbody tr th:only-of-type {\n",
       "        vertical-align: middle;\n",
       "    }\n",
       "\n",
       "    .dataframe tbody tr th {\n",
       "        vertical-align: top;\n",
       "    }\n",
       "\n",
       "    .dataframe thead th {\n",
       "        text-align: right;\n",
       "    }\n",
       "</style>\n",
       "<table border=\"1\" class=\"dataframe\">\n",
       "  <thead>\n",
       "    <tr style=\"text-align: right;\">\n",
       "      <th></th>\n",
       "      <th>Link Id</th>\n",
       "      <th>Count Station Id</th>\n",
       "      <th>Hour</th>\n",
       "      <th>MATSIM volumes</th>\n",
       "      <th>Count volumes</th>\n",
       "      <th>Relative Error</th>\n",
       "      <th>Normalized Relative Error</th>\n",
       "      <th>GEH</th>\n",
       "    </tr>\n",
       "  </thead>\n",
       "  <tbody>\n",
       "    <tr>\n",
       "      <th>0</th>\n",
       "      <td>12975</td>\n",
       "      <td>407</td>\n",
       "      <td>1</td>\n",
       "      <td>8</td>\n",
       "      <td>735</td>\n",
       "      <td>-0.989</td>\n",
       "      <td>0.989</td>\n",
       "      <td>37.719</td>\n",
       "    </tr>\n",
       "    <tr>\n",
       "      <th>1</th>\n",
       "      <td>12975</td>\n",
       "      <td>407</td>\n",
       "      <td>2</td>\n",
       "      <td>11</td>\n",
       "      <td>451</td>\n",
       "      <td>-0.976</td>\n",
       "      <td>0.976</td>\n",
       "      <td>28.950</td>\n",
       "    </tr>\n",
       "    <tr>\n",
       "      <th>2</th>\n",
       "      <td>12975</td>\n",
       "      <td>407</td>\n",
       "      <td>3</td>\n",
       "      <td>7</td>\n",
       "      <td>488</td>\n",
       "      <td>-0.986</td>\n",
       "      <td>0.986</td>\n",
       "      <td>30.574</td>\n",
       "    </tr>\n",
       "    <tr>\n",
       "      <th>3</th>\n",
       "      <td>12975</td>\n",
       "      <td>407</td>\n",
       "      <td>4</td>\n",
       "      <td>5</td>\n",
       "      <td>585</td>\n",
       "      <td>-0.991</td>\n",
       "      <td>0.991</td>\n",
       "      <td>33.769</td>\n",
       "    </tr>\n",
       "    <tr>\n",
       "      <th>4</th>\n",
       "      <td>12975</td>\n",
       "      <td>407</td>\n",
       "      <td>5</td>\n",
       "      <td>9</td>\n",
       "      <td>1278</td>\n",
       "      <td>-0.993</td>\n",
       "      <td>0.993</td>\n",
       "      <td>50.025</td>\n",
       "    </tr>\n",
       "  </tbody>\n",
       "</table>\n",
       "</div>"
      ],
      "text/plain": [
       "   Link Id  Count Station Id  Hour  MATSIM volumes  Count volumes  \\\n",
       "0    12975               407     1               8            735   \n",
       "1    12975               407     2              11            451   \n",
       "2    12975               407     3               7            488   \n",
       "3    12975               407     4               5            585   \n",
       "4    12975               407     5               9           1278   \n",
       "\n",
       "   Relative Error  Normalized Relative Error     GEH  \n",
       "0          -0.989                      0.989  37.719  \n",
       "1          -0.976                      0.976  28.950  \n",
       "2          -0.986                      0.986  30.574  \n",
       "3          -0.991                      0.991  33.769  \n",
       "4          -0.993                      0.993  50.025  "
      ]
     },
     "execution_count": 103,
     "metadata": {},
     "output_type": "execute_result"
    }
   ],
   "source": [
    "df = pd.read_csv('/home/isaacp/research/repos/EvMatsim/contribs/ev/scenarios/utahev/bestoutput/ITERS/it.0/0.countscompare.txt', sep='\\t')\n",
    "df.head()"
   ]
  },
  {
   "cell_type": "code",
   "execution_count": 104,
   "metadata": {},
   "outputs": [
    {
     "data": {
      "text/plain": [
       "array([12975,  6086])"
      ]
     },
     "execution_count": 104,
     "metadata": {},
     "output_type": "execute_result"
    }
   ],
   "source": [
    "df['Link Id'].unique()"
   ]
  },
  {
   "cell_type": "code",
   "execution_count": 105,
   "metadata": {},
   "outputs": [
    {
     "data": {
      "text/html": [
       "<div>\n",
       "<style scoped>\n",
       "    .dataframe tbody tr th:only-of-type {\n",
       "        vertical-align: middle;\n",
       "    }\n",
       "\n",
       "    .dataframe tbody tr th {\n",
       "        vertical-align: top;\n",
       "    }\n",
       "\n",
       "    .dataframe thead th {\n",
       "        text-align: right;\n",
       "    }\n",
       "</style>\n",
       "<table border=\"1\" class=\"dataframe\">\n",
       "  <thead>\n",
       "    <tr style=\"text-align: right;\">\n",
       "      <th></th>\n",
       "      <th>Link Id</th>\n",
       "      <th>Count Station Id</th>\n",
       "      <th>Hour</th>\n",
       "      <th>MATSIM volumes</th>\n",
       "      <th>Count volumes</th>\n",
       "      <th>Relative Error</th>\n",
       "      <th>Normalized Relative Error</th>\n",
       "      <th>GEH</th>\n",
       "    </tr>\n",
       "  </thead>\n",
       "  <tbody>\n",
       "    <tr>\n",
       "      <th>0</th>\n",
       "      <td>12975</td>\n",
       "      <td>407</td>\n",
       "      <td>1</td>\n",
       "      <td>8</td>\n",
       "      <td>735</td>\n",
       "      <td>-0.989</td>\n",
       "      <td>0.989</td>\n",
       "      <td>37.719</td>\n",
       "    </tr>\n",
       "    <tr>\n",
       "      <th>1</th>\n",
       "      <td>12975</td>\n",
       "      <td>407</td>\n",
       "      <td>2</td>\n",
       "      <td>11</td>\n",
       "      <td>451</td>\n",
       "      <td>-0.976</td>\n",
       "      <td>0.976</td>\n",
       "      <td>28.950</td>\n",
       "    </tr>\n",
       "    <tr>\n",
       "      <th>2</th>\n",
       "      <td>12975</td>\n",
       "      <td>407</td>\n",
       "      <td>3</td>\n",
       "      <td>7</td>\n",
       "      <td>488</td>\n",
       "      <td>-0.986</td>\n",
       "      <td>0.986</td>\n",
       "      <td>30.574</td>\n",
       "    </tr>\n",
       "    <tr>\n",
       "      <th>3</th>\n",
       "      <td>12975</td>\n",
       "      <td>407</td>\n",
       "      <td>4</td>\n",
       "      <td>5</td>\n",
       "      <td>585</td>\n",
       "      <td>-0.991</td>\n",
       "      <td>0.991</td>\n",
       "      <td>33.769</td>\n",
       "    </tr>\n",
       "    <tr>\n",
       "      <th>4</th>\n",
       "      <td>12975</td>\n",
       "      <td>407</td>\n",
       "      <td>5</td>\n",
       "      <td>9</td>\n",
       "      <td>1278</td>\n",
       "      <td>-0.993</td>\n",
       "      <td>0.993</td>\n",
       "      <td>50.025</td>\n",
       "    </tr>\n",
       "  </tbody>\n",
       "</table>\n",
       "</div>"
      ],
      "text/plain": [
       "   Link Id  Count Station Id  Hour  MATSIM volumes  Count volumes  \\\n",
       "0    12975               407     1               8            735   \n",
       "1    12975               407     2              11            451   \n",
       "2    12975               407     3               7            488   \n",
       "3    12975               407     4               5            585   \n",
       "4    12975               407     5               9           1278   \n",
       "\n",
       "   Relative Error  Normalized Relative Error     GEH  \n",
       "0          -0.989                      0.989  37.719  \n",
       "1          -0.976                      0.976  28.950  \n",
       "2          -0.986                      0.986  30.574  \n",
       "3          -0.991                      0.991  33.769  \n",
       "4          -0.993                      0.993  50.025  "
      ]
     },
     "execution_count": 105,
     "metadata": {},
     "output_type": "execute_result"
    }
   ],
   "source": [
    "link = 12975\n",
    "dflink = df[df['Link Id'] == link]\n",
    "dflink.head()"
   ]
  },
  {
   "cell_type": "code",
   "execution_count": 106,
   "metadata": {},
   "outputs": [
    {
     "data": {
      "image/png": "[encoded data removed]",
      "text/plain": [
       "<Figure size 1200x600 with 1 Axes>"
      ]
     },
     "metadata": {},
     "output_type": "display_data"
    }
   ],
   "source": [
    "unique_hours = pd.unique(dflink['Hour'])\n",
    "bar_width = 0.4  # Width of each bar\n",
    "\n",
    "# X positions for each set of bars\n",
    "r1 = np.arange(len(unique_hours))\n",
    "r2 = [x + bar_width for x in r1]\n",
    "\n",
    "plt.figure(figsize=(12, 6))\n",
    "\n",
    "# Plot Count volumes histogram\n",
    "plt.bar(r1, dflink['Count volumes'] / 99, color='red', width=bar_width, label='UTA Count volumes')\n",
    "\n",
    "# Plot MATSIM volumes histogram\n",
    "plt.bar(r2, dflink['MATSIM volumes'], color='blue', width=bar_width, label='MATSIM volumes')\n",
    "\n",
    "# Labels, title, and legend\n",
    "plt.xlabel('Hour')\n",
    "plt.ylabel('Volumes')\n",
    "plt.title(f'Comparison of Count Volumes and MATSIM Volumes Link {link}')\n",
    "plt.xticks([r + bar_width / 2 for r in range(len(unique_hours))], unique_hours)\n",
    "plt.legend()\n",
    "\n",
    "plt.show()"
   ]
  }
 ],
 "metadata": {
  "kernelspec": {
   "display_name": "matsimenv",
   "language": "python",
   "name": "python3"
  },
  "language_info": {
   "codemirror_mode": {
    "name": "ipython",
    "version": 3
   },
   "file_extension": ".py",
   "mimetype": "text/x-python",
   "name": "python",
   "nbconvert_exporter": "python",
   "pygments_lexer": "ipython3",
   "version": "3.8.20"
  },
  "orig_nbformat": 4
 },
 "nbformat": 4,
 "nbformat_minor": 2
}
