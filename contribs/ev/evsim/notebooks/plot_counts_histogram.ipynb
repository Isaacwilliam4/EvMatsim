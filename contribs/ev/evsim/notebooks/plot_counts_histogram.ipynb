{
 "cells": [
  {
   "cell_type": "code",
   "execution_count": 3,
   "metadata": {},
   "outputs": [],
   "source": [
    "import pandas as pd\n",
    "import matplotlib.pyplot as plt\n",
    "import numpy as np"
   ]
  },
  {
   "cell_type": "code",
   "execution_count": 4,
   "metadata": {},
   "outputs": [
    {
     "data": {
      "text/html": [
       "<div>\n",
       "<style scoped>\n",
       "    .dataframe tbody tr th:only-of-type {\n",
       "        vertical-align: middle;\n",
       "    }\n",
       "\n",
       "    .dataframe tbody tr th {\n",
       "        vertical-align: top;\n",
       "    }\n",
       "\n",
       "    .dataframe thead th {\n",
       "        text-align: right;\n",
       "    }\n",
       "</style>\n",
       "<table border=\"1\" class=\"dataframe\">\n",
       "  <thead>\n",
       "    <tr style=\"text-align: right;\">\n",
       "      <th></th>\n",
       "      <th>Link Id</th>\n",
       "      <th>Count Station Id</th>\n",
       "      <th>Hour</th>\n",
       "      <th>MATSIM volumes</th>\n",
       "      <th>Count volumes</th>\n",
       "      <th>Relative Error</th>\n",
       "      <th>Normalized Relative Error</th>\n",
       "      <th>GEH</th>\n",
       "    </tr>\n",
       "  </thead>\n",
       "  <tbody>\n",
       "    <tr>\n",
       "      <th>0</th>\n",
       "      <td>1063</td>\n",
       "      <td>32</td>\n",
       "      <td>1</td>\n",
       "      <td>0</td>\n",
       "      <td>8</td>\n",
       "      <td>-1.0</td>\n",
       "      <td>1.0</td>\n",
       "      <td>4.000</td>\n",
       "    </tr>\n",
       "    <tr>\n",
       "      <th>1</th>\n",
       "      <td>1063</td>\n",
       "      <td>32</td>\n",
       "      <td>2</td>\n",
       "      <td>0</td>\n",
       "      <td>17</td>\n",
       "      <td>-1.0</td>\n",
       "      <td>1.0</td>\n",
       "      <td>5.831</td>\n",
       "    </tr>\n",
       "    <tr>\n",
       "      <th>2</th>\n",
       "      <td>1063</td>\n",
       "      <td>32</td>\n",
       "      <td>3</td>\n",
       "      <td>0</td>\n",
       "      <td>14</td>\n",
       "      <td>-1.0</td>\n",
       "      <td>1.0</td>\n",
       "      <td>5.292</td>\n",
       "    </tr>\n",
       "    <tr>\n",
       "      <th>3</th>\n",
       "      <td>1063</td>\n",
       "      <td>32</td>\n",
       "      <td>4</td>\n",
       "      <td>0</td>\n",
       "      <td>26</td>\n",
       "      <td>-1.0</td>\n",
       "      <td>1.0</td>\n",
       "      <td>7.211</td>\n",
       "    </tr>\n",
       "    <tr>\n",
       "      <th>4</th>\n",
       "      <td>1063</td>\n",
       "      <td>32</td>\n",
       "      <td>5</td>\n",
       "      <td>0</td>\n",
       "      <td>6</td>\n",
       "      <td>-1.0</td>\n",
       "      <td>1.0</td>\n",
       "      <td>3.464</td>\n",
       "    </tr>\n",
       "  </tbody>\n",
       "</table>\n",
       "</div>"
      ],
      "text/plain": [
       "   Link Id  Count Station Id  Hour  MATSIM volumes  Count volumes  \\\n",
       "0     1063                32     1               0              8   \n",
       "1     1063                32     2               0             17   \n",
       "2     1063                32     3               0             14   \n",
       "3     1063                32     4               0             26   \n",
       "4     1063                32     5               0              6   \n",
       "\n",
       "   Relative Error  Normalized Relative Error    GEH  \n",
       "0            -1.0                        1.0  4.000  \n",
       "1            -1.0                        1.0  5.831  \n",
       "2            -1.0                        1.0  5.292  \n",
       "3            -1.0                        1.0  7.211  \n",
       "4            -1.0                        1.0  3.464  "
      ]
     },
     "execution_count": 4,
     "metadata": {},
     "output_type": "execute_result"
    }
   ],
   "source": [
    "df = pd.read_csv(\n",
    "    \"/home/isaacp/repos/EvMatsim/output/ITERS/it.0/0.countscompare.txt\",\n",
    "    sep=\"\\t\",\n",
    ")\n",
    "df.head()"
   ]
  },
  {
   "cell_type": "code",
   "execution_count": 12,
   "metadata": {},
   "outputs": [
    {
     "data": {
      "text/plain": [
       "<BarContainer object of 24 artists>"
      ]
     },
     "execution_count": 12,
     "metadata": {},
     "output_type": "execute_result"
    },
    {
     "data": {
      "image/png": "[encoded data removed]",
      "text/plain": [
       "<Figure size 640x480 with 1 Axes>"
      ]
     },
     "metadata": {},
     "output_type": "display_data"
    }
   ],
   "source": [
    "hour_sum = df.groupby(\"Hour\")[\"Count volumes\"].sum()\n",
    "plt.bar(hour_sum.index, hour_sum.values)"
   ]
  },
  {
   "cell_type": "code",
   "execution_count": 5,
   "metadata": {},
   "outputs": [
    {
     "data": {
      "text/plain": [
       "array([1063, 1066, 1070, 1075, 1078, 1079, 1094, 1095, 1098, 1107, 1112,\n",
       "       1140, 1163, 1171, 1282, 1298, 1300, 1327, 1333, 1342, 1352,  138,\n",
       "       1517, 1529, 1551, 1575, 1579, 1582, 1607, 1633, 1640, 1644, 1645,\n",
       "       1651, 1708, 1709, 1711, 1716, 1722, 1727, 1735,  176, 1788, 1890,\n",
       "       1921, 1925,  197, 2011, 2020, 2021, 2024, 2080, 2117, 2178, 2184,\n",
       "       2264, 2305, 2353, 2385, 2396,   24, 2413, 2437, 2456, 2480, 2484,\n",
       "       2486, 2494, 2507,  256,  258,  259,  263, 2682, 2684, 2690, 2728,\n",
       "       2749, 2766, 2773,   28, 2803, 2867, 2878, 2881, 2894, 2911, 2912,\n",
       "       2944, 2986, 3018,  305, 3168, 3170, 3181, 3207, 3226,  323, 3238,\n",
       "        327, 3278, 3292, 3299, 3302, 3328,  346,  347, 3579, 3688, 3697,\n",
       "       3707, 3717,  391, 3934,  396, 3964, 3965, 3973, 3979,  406,  408,\n",
       "        411,  413,  417, 4198, 4219, 4246, 4249, 4271, 4297, 4309, 4318,\n",
       "       4322, 4416,  443,  450,  455, 4590,  461, 4612,  474,  479,  529,\n",
       "        531,  587,   59,  649,  657,  667,   67,   69,  693,  699,  702,\n",
       "        759])"
      ]
     },
     "execution_count": 5,
     "metadata": {},
     "output_type": "execute_result"
    }
   ],
   "source": [
    "df[\"Link Id\"].unique()"
   ]
  },
  {
   "cell_type": "code",
   "execution_count": 6,
   "metadata": {},
   "outputs": [
    {
     "data": {
      "text/html": [
       "<div>\n",
       "<style scoped>\n",
       "    .dataframe tbody tr th:only-of-type {\n",
       "        vertical-align: middle;\n",
       "    }\n",
       "\n",
       "    .dataframe tbody tr th {\n",
       "        vertical-align: top;\n",
       "    }\n",
       "\n",
       "    .dataframe thead th {\n",
       "        text-align: right;\n",
       "    }\n",
       "</style>\n",
       "<table border=\"1\" class=\"dataframe\">\n",
       "  <thead>\n",
       "    <tr style=\"text-align: right;\">\n",
       "      <th></th>\n",
       "      <th>Link Id</th>\n",
       "      <th>Count Station Id</th>\n",
       "      <th>Hour</th>\n",
       "      <th>MATSIM volumes</th>\n",
       "      <th>Count volumes</th>\n",
       "      <th>Relative Error</th>\n",
       "      <th>Normalized Relative Error</th>\n",
       "      <th>GEH</th>\n",
       "    </tr>\n",
       "  </thead>\n",
       "  <tbody>\n",
       "    <tr>\n",
       "      <th>0</th>\n",
       "      <td>1063</td>\n",
       "      <td>32</td>\n",
       "      <td>1</td>\n",
       "      <td>0</td>\n",
       "      <td>8</td>\n",
       "      <td>-1.0</td>\n",
       "      <td>1.0</td>\n",
       "      <td>4.000</td>\n",
       "    </tr>\n",
       "    <tr>\n",
       "      <th>1</th>\n",
       "      <td>1063</td>\n",
       "      <td>32</td>\n",
       "      <td>2</td>\n",
       "      <td>0</td>\n",
       "      <td>17</td>\n",
       "      <td>-1.0</td>\n",
       "      <td>1.0</td>\n",
       "      <td>5.831</td>\n",
       "    </tr>\n",
       "    <tr>\n",
       "      <th>2</th>\n",
       "      <td>1063</td>\n",
       "      <td>32</td>\n",
       "      <td>3</td>\n",
       "      <td>0</td>\n",
       "      <td>14</td>\n",
       "      <td>-1.0</td>\n",
       "      <td>1.0</td>\n",
       "      <td>5.292</td>\n",
       "    </tr>\n",
       "    <tr>\n",
       "      <th>3</th>\n",
       "      <td>1063</td>\n",
       "      <td>32</td>\n",
       "      <td>4</td>\n",
       "      <td>0</td>\n",
       "      <td>26</td>\n",
       "      <td>-1.0</td>\n",
       "      <td>1.0</td>\n",
       "      <td>7.211</td>\n",
       "    </tr>\n",
       "    <tr>\n",
       "      <th>4</th>\n",
       "      <td>1063</td>\n",
       "      <td>32</td>\n",
       "      <td>5</td>\n",
       "      <td>0</td>\n",
       "      <td>6</td>\n",
       "      <td>-1.0</td>\n",
       "      <td>1.0</td>\n",
       "      <td>3.464</td>\n",
       "    </tr>\n",
       "  </tbody>\n",
       "</table>\n",
       "</div>"
      ],
      "text/plain": [
       "   Link Id  Count Station Id  Hour  MATSIM volumes  Count volumes  \\\n",
       "0     1063                32     1               0              8   \n",
       "1     1063                32     2               0             17   \n",
       "2     1063                32     3               0             14   \n",
       "3     1063                32     4               0             26   \n",
       "4     1063                32     5               0              6   \n",
       "\n",
       "   Relative Error  Normalized Relative Error    GEH  \n",
       "0            -1.0                        1.0  4.000  \n",
       "1            -1.0                        1.0  5.831  \n",
       "2            -1.0                        1.0  5.292  \n",
       "3            -1.0                        1.0  7.211  \n",
       "4            -1.0                        1.0  3.464  "
      ]
     },
     "execution_count": 6,
     "metadata": {},
     "output_type": "execute_result"
    }
   ],
   "source": [
    "link = 1063\n",
    "dflink = df[df[\"Link Id\"] == link]\n",
    "dflink.head()"
   ]
  },
  {
   "cell_type": "code",
   "execution_count": 7,
   "metadata": {},
   "outputs": [
    {
     "data": {
      "image/png": "[encoded data removed]",
      "text/plain": [
       "<Figure size 1200x600 with 1 Axes>"
      ]
     },
     "metadata": {},
     "output_type": "display_data"
    }
   ],
   "source": [
    "unique_hours = pd.unique(dflink[\"Hour\"])\n",
    "bar_width = 0.4  # Width of each bar\n",
    "\n",
    "# X positions for each set of bars\n",
    "r1 = np.arange(len(unique_hours))\n",
    "r2 = [x + bar_width for x in r1]\n",
    "\n",
    "plt.figure(figsize=(12, 6))\n",
    "\n",
    "plt.bar(\n",
    "    r2, dflink[\"MATSIM volumes\"], color=\"blue\", width=bar_width, label=\"MATSIM volumes\"\n",
    ")\n",
    "# Plot Count volumes histogram\n",
    "plt.bar(\n",
    "    r1, dflink[\"Count volumes\"], color=\"red\", width=bar_width, label=\"UTA Count volumes\"\n",
    ")\n",
    "\n",
    "# Plot MATSIM volumes histogram\n",
    "\n",
    "# Labels, title, and legend\n",
    "plt.xlabel(\"Hour\")\n",
    "plt.ylabel(\"Volumes\")\n",
    "plt.title(f\"Comparison of Count Volumes and MATSIM Volumes Link {link}\")\n",
    "plt.xticks([r + bar_width / 2 for r in range(len(unique_hours))], unique_hours)\n",
    "plt.legend()\n",
    "\n",
    "plt.show()"
   ]
  },
  {
   "cell_type": "code",
   "execution_count": null,
   "metadata": {},
   "outputs": [],
   "source": []
  }
 ],
 "metadata": {
  "kernelspec": {
   "display_name": "matsimenv",
   "language": "python",
   "name": "python3"
  },
  "language_info": {
   "codemirror_mode": {
    "name": "ipython",
    "version": 3
   },
   "file_extension": ".py",
   "mimetype": "text/x-python",
   "name": "python",
   "nbconvert_exporter": "python",
   "pygments_lexer": "ipython3",
   "version": "3.10.14"
  },
  "orig_nbformat": 4
 },
 "nbformat": 4,
 "nbformat_minor": 2
}
