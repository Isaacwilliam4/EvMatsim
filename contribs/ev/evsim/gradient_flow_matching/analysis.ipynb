{
 "cells": [
  {
   "cell_type": "code",
   "execution_count": 14,
   "id": "2ed0727e",
   "metadata": {},
   "outputs": [],
   "source": [
    "import torch"
   ]
  },
  {
   "cell_type": "code",
   "execution_count": 15,
   "id": "51246194",
   "metadata": {},
   "outputs": [
    {
     "name": "stderr",
     "output_type": "stream",
     "text": [
      "/tmp/ipykernel_6278/677930185.py:1: FutureWarning: You are using `torch.load` with `weights_only=False` (the current default value), which uses the default pickle module implicitly. It is possible to construct malicious pickle data which will execute arbitrary code during unpickling (See https://github.com/pytorch/pytorch/blob/main/SECURITY.md#untrusted-models for more details). In a future release, the default value for `weights_only` will be flipped to `True`. This limits the functions that could be executed during unpickling. Arbitrary objects will no longer be allowed to be loaded via this mode unless they are explicitly allowlisted by the user via `torch.serialization.add_safe_globals`. We recommend you start setting `weights_only=True` for any use case where you don't have full control of the loaded file. Please open an issue on GitHub for any issues related to this experimental feature.\n",
      "  R = torch.load(\"/home/isaacp/repos/EvMatsim/contribs/ev/evsim/gradient_flow_matching/gradient_flow_matching_results/0423132519_nclusters_10_utahevnetwork/best_flows.pt\")\n"
     ]
    }
   ],
   "source": [
    "R = torch.load(\"/home/isaacp/repos/EvMatsim/contribs/ev/evsim/gradient_flow_matching/gradient_flow_matching_results/0423132519_nclusters_10_utahevnetwork/best_flows.pt\")\n",
    "R = R['W']"
   ]
  },
  {
   "cell_type": "code",
   "execution_count": 16,
   "id": "027ddc73",
   "metadata": {},
   "outputs": [
    {
     "data": {
      "text/plain": [
       "torch.Size([100, 24])"
      ]
     },
     "execution_count": 16,
     "metadata": {},
     "output_type": "execute_result"
    }
   ],
   "source": [
    "R.shape"
   ]
  },
  {
   "cell_type": "code",
   "execution_count": 17,
   "id": "8a74fd3e",
   "metadata": {},
   "outputs": [
    {
     "data": {
      "text/plain": [
       "tensor(314923.0625, device='cuda:0', grad_fn=<SumBackward0>)"
      ]
     },
     "execution_count": 17,
     "metadata": {},
     "output_type": "execute_result"
    }
   ],
   "source": [
    "R.sum()"
   ]
  },
  {
   "cell_type": "code",
   "execution_count": 18,
   "id": "97e5c94f",
   "metadata": {},
   "outputs": [
    {
     "data": {
      "text/plain": [
       "tensor(990.1318, device='cuda:0', grad_fn=<MaxBackward1>)"
      ]
     },
     "execution_count": 18,
     "metadata": {},
     "output_type": "execute_result"
    }
   ],
   "source": [
    "R.max()"
   ]
  },
  {
   "cell_type": "code",
   "execution_count": 20,
   "id": "15240bf3",
   "metadata": {},
   "outputs": [
    {
     "data": {
      "text/plain": [
       "tensor(-0.0014, device='cuda:0', grad_fn=<MinBackward1>)"
      ]
     },
     "execution_count": 20,
     "metadata": {},
     "output_type": "execute_result"
    }
   ],
   "source": [
    "R.min()"
   ]
  },
  {
   "cell_type": "code",
   "execution_count": 19,
   "id": "c598fdcd",
   "metadata": {},
   "outputs": [
    {
     "data": {
      "text/plain": [
       "tensor([-1.0000e-03, -9.9999e-04, -9.9998e-04, -9.9998e-04, -9.9998e-04,\n",
       "        -9.9999e-04, -9.9996e-04, -1.0001e-03, -1.0023e-03, -1.0031e-03,\n",
       "        -1.0039e-03, -1.0052e-03, -1.0063e-03, -1.0080e-03, -1.0200e-03,\n",
       "         3.1825e+01,  8.7700e+01,  1.6720e+01, -1.0041e-03, -9.9997e-04,\n",
       "        -9.9999e-04, -9.9998e-04, -9.9999e-04, -9.9997e-04], device='cuda:0',\n",
       "       grad_fn=<SelectBackward0>)"
      ]
     },
     "execution_count": 19,
     "metadata": {},
     "output_type": "execute_result"
    }
   ],
   "source": [
    "R[1]"
   ]
  }
 ],
 "metadata": {
  "kernelspec": {
   "display_name": "matsimenv",
   "language": "python",
   "name": "python3"
  },
  "language_info": {
   "codemirror_mode": {
    "name": "ipython",
    "version": 3
   },
   "file_extension": ".py",
   "mimetype": "text/x-python",
   "name": "python",
   "nbconvert_exporter": "python",
   "pygments_lexer": "ipython3",
   "version": "3.10.14"
  }
 },
 "nbformat": 4,
 "nbformat_minor": 5
}
