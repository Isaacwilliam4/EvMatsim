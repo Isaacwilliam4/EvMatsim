{
 "cells": [
  {
   "cell_type": "code",
   "execution_count": 31,
   "id": "2ed0727e",
   "metadata": {},
   "outputs": [],
   "source": [
    "import torch"
   ]
  },
  {
   "cell_type": "code",
   "execution_count": 32,
   "id": "51246194",
   "metadata": {},
   "outputs": [
    {
     "name": "stderr",
     "output_type": "stream",
     "text": [
      "/tmp/ipykernel_6278/1571027040.py:1: FutureWarning: You are using `torch.load` with `weights_only=False` (the current default value), which uses the default pickle module implicitly. It is possible to construct malicious pickle data which will execute arbitrary code during unpickling (See https://github.com/pytorch/pytorch/blob/main/SECURITY.md#untrusted-models for more details). In a future release, the default value for `weights_only` will be flipped to `True`. This limits the functions that could be executed during unpickling. Arbitrary objects will no longer be allowed to be loaded via this mode unless they are explicitly allowlisted by the user via `torch.serialization.add_safe_globals`. We recommend you start setting `weights_only=True` for any use case where you don't have full control of the loaded file. Please open an issue on GitHub for any issues related to this experimental feature.\n",
      "  R_200 = torch.load(\"/home/isaacp/repos/EvMatsim/contribs/ev/evsim/gradient_flow_matching/utah_flow_results/0423161247_nclusters_200_utahnetwork/best_flows.pt\")\n",
      "/tmp/ipykernel_6278/1571027040.py:3: FutureWarning: You are using `torch.load` with `weights_only=False` (the current default value), which uses the default pickle module implicitly. It is possible to construct malicious pickle data which will execute arbitrary code during unpickling (See https://github.com/pytorch/pytorch/blob/main/SECURITY.md#untrusted-models for more details). In a future release, the default value for `weights_only` will be flipped to `True`. This limits the functions that could be executed during unpickling. Arbitrary objects will no longer be allowed to be loaded via this mode unless they are explicitly allowlisted by the user via `torch.serialization.add_safe_globals`. We recommend you start setting `weights_only=True` for any use case where you don't have full control of the loaded file. Please open an issue on GitHub for any issues related to this experimental feature.\n",
      "  R_10 = torch.load(\"/home/isaacp/repos/EvMatsim/contribs/ev/evsim/gradient_flow_matching/utah_flow_results/0423153613_nclusters_10_utahnetwork/best_flows.pt\")\n"
     ]
    }
   ],
   "source": [
    "R_200 = torch.load(\"/home/isaacp/repos/EvMatsim/contribs/ev/evsim/gradient_flow_matching/utah_flow_results/0423161247_nclusters_200_utahnetwork/best_flows.pt\")\n",
    "R_200 = R_200['W']\n",
    "R_10 = torch.load(\"/home/isaacp/repos/EvMatsim/contribs/ev/evsim/gradient_flow_matching/utah_flow_results/0423153613_nclusters_10_utahnetwork/best_flows.pt\")\n",
    "R_10 = R_10['W']"
   ]
  },
  {
   "cell_type": "code",
   "execution_count": 34,
   "id": "027ddc73",
   "metadata": {},
   "outputs": [
    {
     "name": "stdout",
     "output_type": "stream",
     "text": [
      "10 shape:  torch.Size([100, 24]) sum:  328191.03125 max:  990.1473999023438 min:  -0.001021885429508984\n",
      "200 shape:  torch.Size([40000, 24]) sum:  1937182.0 max:  989.8198852539062 min:  -0.001220853067934513\n"
     ]
    }
   ],
   "source": [
    "print(\"10\", \"shape: \", R_10.shape, \"sum: \", R_10.sum().item(), \"max: \", R_10.max().item(), \"min: \", R_10.min().item())\n",
    "print(\"200\", \"shape: \", R_200.shape, \"sum: \", R_200.sum().item(), \"max: \", R_200.max().item(), \"min: \", R_200.min().item())"
   ]
  }
 ],
 "metadata": {
  "kernelspec": {
   "display_name": "matsimenv",
   "language": "python",
   "name": "python3"
  },
  "language_info": {
   "codemirror_mode": {
    "name": "ipython",
    "version": 3
   },
   "file_extension": ".py",
   "mimetype": "text/x-python",
   "name": "python",
   "nbconvert_exporter": "python",
   "pygments_lexer": "ipython3",
   "version": "3.10.14"
  }
 },
 "nbformat": 4,
 "nbformat_minor": 5
}
