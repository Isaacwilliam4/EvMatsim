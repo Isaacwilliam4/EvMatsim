{
 "cells": [
  {
   "cell_type": "code",
   "execution_count": 1,
   "metadata": {},
   "outputs": [],
   "source": [
    "import pandas as pd \n",
    "import matplotlib.pyplot as plt\n",
    "import numpy as np"
   ]
  },
  {
   "cell_type": "code",
   "execution_count": 2,
   "metadata": {},
   "outputs": [
    {
     "data": {
      "text/html": [
       "<div>\n",
       "<style scoped>\n",
       "    .dataframe tbody tr th:only-of-type {\n",
       "        vertical-align: middle;\n",
       "    }\n",
       "\n",
       "    .dataframe tbody tr th {\n",
       "        vertical-align: top;\n",
       "    }\n",
       "\n",
       "    .dataframe thead th {\n",
       "        text-align: right;\n",
       "    }\n",
       "</style>\n",
       "<table border=\"1\" class=\"dataframe\">\n",
       "  <thead>\n",
       "    <tr style=\"text-align: right;\">\n",
       "      <th></th>\n",
       "      <th>Link Id</th>\n",
       "      <th>Count Station Id</th>\n",
       "      <th>Hour</th>\n",
       "      <th>MATSIM volumes</th>\n",
       "      <th>Count volumes</th>\n",
       "      <th>Relative Error</th>\n",
       "      <th>Normalized Relative Error</th>\n",
       "      <th>GEH</th>\n",
       "    </tr>\n",
       "  </thead>\n",
       "  <tbody>\n",
       "    <tr>\n",
       "      <th>0</th>\n",
       "      <td>12975</td>\n",
       "      <td>407</td>\n",
       "      <td>1</td>\n",
       "      <td>0</td>\n",
       "      <td>735</td>\n",
       "      <td>-1.000</td>\n",
       "      <td>1.000</td>\n",
       "      <td>38.341</td>\n",
       "    </tr>\n",
       "    <tr>\n",
       "      <th>1</th>\n",
       "      <td>12975</td>\n",
       "      <td>407</td>\n",
       "      <td>2</td>\n",
       "      <td>3</td>\n",
       "      <td>451</td>\n",
       "      <td>-0.993</td>\n",
       "      <td>0.993</td>\n",
       "      <td>29.735</td>\n",
       "    </tr>\n",
       "    <tr>\n",
       "      <th>2</th>\n",
       "      <td>12975</td>\n",
       "      <td>407</td>\n",
       "      <td>3</td>\n",
       "      <td>0</td>\n",
       "      <td>488</td>\n",
       "      <td>-1.000</td>\n",
       "      <td>1.000</td>\n",
       "      <td>31.241</td>\n",
       "    </tr>\n",
       "    <tr>\n",
       "      <th>3</th>\n",
       "      <td>12975</td>\n",
       "      <td>407</td>\n",
       "      <td>4</td>\n",
       "      <td>1</td>\n",
       "      <td>585</td>\n",
       "      <td>-0.998</td>\n",
       "      <td>0.998</td>\n",
       "      <td>34.118</td>\n",
       "    </tr>\n",
       "    <tr>\n",
       "      <th>4</th>\n",
       "      <td>12975</td>\n",
       "      <td>407</td>\n",
       "      <td>5</td>\n",
       "      <td>1</td>\n",
       "      <td>1278</td>\n",
       "      <td>-0.999</td>\n",
       "      <td>0.999</td>\n",
       "      <td>50.498</td>\n",
       "    </tr>\n",
       "  </tbody>\n",
       "</table>\n",
       "</div>"
      ],
      "text/plain": [
       "   Link Id  Count Station Id  Hour  MATSIM volumes  Count volumes  \\\n",
       "0    12975               407     1               0            735   \n",
       "1    12975               407     2               3            451   \n",
       "2    12975               407     3               0            488   \n",
       "3    12975               407     4               1            585   \n",
       "4    12975               407     5               1           1278   \n",
       "\n",
       "   Relative Error  Normalized Relative Error     GEH  \n",
       "0          -1.000                      1.000  38.341  \n",
       "1          -0.993                      0.993  29.735  \n",
       "2          -1.000                      1.000  31.241  \n",
       "3          -0.998                      0.998  34.118  \n",
       "4          -0.999                      0.999  50.498  "
      ]
     },
     "execution_count": 2,
     "metadata": {},
     "output_type": "execute_result"
    }
   ],
   "source": [
    "df = pd.read_csv('/home/isaacp/research/repos/EvMatsim/contribs/ev/scenarios/utahev/bestoutput/ITERS/it.0/0.countscompare.txt', sep='\\t')\n",
    "df.head()"
   ]
  },
  {
   "cell_type": "code",
   "execution_count": 3,
   "metadata": {},
   "outputs": [
    {
     "data": {
      "text/plain": [
       "array([12975,  6086])"
      ]
     },
     "execution_count": 3,
     "metadata": {},
     "output_type": "execute_result"
    }
   ],
   "source": [
    "df['Link Id'].unique()"
   ]
  },
  {
   "cell_type": "code",
   "execution_count": 8,
   "metadata": {},
   "outputs": [
    {
     "data": {
      "text/html": [
       "<div>\n",
       "<style scoped>\n",
       "    .dataframe tbody tr th:only-of-type {\n",
       "        vertical-align: middle;\n",
       "    }\n",
       "\n",
       "    .dataframe tbody tr th {\n",
       "        vertical-align: top;\n",
       "    }\n",
       "\n",
       "    .dataframe thead th {\n",
       "        text-align: right;\n",
       "    }\n",
       "</style>\n",
       "<table border=\"1\" class=\"dataframe\">\n",
       "  <thead>\n",
       "    <tr style=\"text-align: right;\">\n",
       "      <th></th>\n",
       "      <th>Link Id</th>\n",
       "      <th>Count Station Id</th>\n",
       "      <th>Hour</th>\n",
       "      <th>MATSIM volumes</th>\n",
       "      <th>Count volumes</th>\n",
       "      <th>Relative Error</th>\n",
       "      <th>Normalized Relative Error</th>\n",
       "      <th>GEH</th>\n",
       "    </tr>\n",
       "  </thead>\n",
       "  <tbody>\n",
       "    <tr>\n",
       "      <th>24</th>\n",
       "      <td>6086</td>\n",
       "      <td>3103218</td>\n",
       "      <td>1</td>\n",
       "      <td>1</td>\n",
       "      <td>615</td>\n",
       "      <td>-0.998</td>\n",
       "      <td>0.998</td>\n",
       "      <td>34.986</td>\n",
       "    </tr>\n",
       "    <tr>\n",
       "      <th>25</th>\n",
       "      <td>6086</td>\n",
       "      <td>3103218</td>\n",
       "      <td>2</td>\n",
       "      <td>2</td>\n",
       "      <td>411</td>\n",
       "      <td>-0.995</td>\n",
       "      <td>0.995</td>\n",
       "      <td>28.462</td>\n",
       "    </tr>\n",
       "    <tr>\n",
       "      <th>26</th>\n",
       "      <td>6086</td>\n",
       "      <td>3103218</td>\n",
       "      <td>3</td>\n",
       "      <td>0</td>\n",
       "      <td>310</td>\n",
       "      <td>-1.000</td>\n",
       "      <td>1.000</td>\n",
       "      <td>24.900</td>\n",
       "    </tr>\n",
       "    <tr>\n",
       "      <th>27</th>\n",
       "      <td>6086</td>\n",
       "      <td>3103218</td>\n",
       "      <td>4</td>\n",
       "      <td>1</td>\n",
       "      <td>442</td>\n",
       "      <td>-0.998</td>\n",
       "      <td>0.998</td>\n",
       "      <td>29.631</td>\n",
       "    </tr>\n",
       "    <tr>\n",
       "      <th>28</th>\n",
       "      <td>6086</td>\n",
       "      <td>3103218</td>\n",
       "      <td>5</td>\n",
       "      <td>1</td>\n",
       "      <td>1056</td>\n",
       "      <td>-0.999</td>\n",
       "      <td>0.999</td>\n",
       "      <td>45.891</td>\n",
       "    </tr>\n",
       "  </tbody>\n",
       "</table>\n",
       "</div>"
      ],
      "text/plain": [
       "    Link Id  Count Station Id  Hour  MATSIM volumes  Count volumes  \\\n",
       "24     6086           3103218     1               1            615   \n",
       "25     6086           3103218     2               2            411   \n",
       "26     6086           3103218     3               0            310   \n",
       "27     6086           3103218     4               1            442   \n",
       "28     6086           3103218     5               1           1056   \n",
       "\n",
       "    Relative Error  Normalized Relative Error     GEH  \n",
       "24          -0.998                      0.998  34.986  \n",
       "25          -0.995                      0.995  28.462  \n",
       "26          -1.000                      1.000  24.900  \n",
       "27          -0.998                      0.998  29.631  \n",
       "28          -0.999                      0.999  45.891  "
      ]
     },
     "execution_count": 8,
     "metadata": {},
     "output_type": "execute_result"
    }
   ],
   "source": [
    "link = 6086\n",
    "dflink = df[df['Link Id'] == link]\n",
    "dflink.head()"
   ]
  },
  {
   "cell_type": "code",
   "execution_count": 9,
   "metadata": {},
   "outputs": [
    {
     "data": {
      "image/png": "[encoded data removed]",
      "text/plain": [
       "<Figure size 1200x600 with 1 Axes>"
      ]
     },
     "metadata": {},
     "output_type": "display_data"
    }
   ],
   "source": [
    "unique_hours = pd.unique(dflink['Hour'])\n",
    "bar_width = 0.4  # Width of each bar\n",
    "\n",
    "# X positions for each set of bars\n",
    "r1 = np.arange(len(unique_hours))\n",
    "r2 = [x + bar_width for x in r1]\n",
    "\n",
    "plt.figure(figsize=(12, 6))\n",
    "\n",
    "# Plot Count volumes histogram\n",
    "plt.bar(r1, dflink['Count volumes'] * 0.0146 * 0.12, color='red', width=bar_width, label='UTA Count volumes')\n",
    "\n",
    "# Plot MATSIM volumes histogram\n",
    "plt.bar(r2, dflink['MATSIM volumes'], color='blue', width=bar_width, label='MATSIM volumes')\n",
    "\n",
    "# Labels, title, and legend\n",
    "plt.xlabel('Hour')\n",
    "plt.ylabel('Volumes')\n",
    "plt.title(f'Comparison of Count Volumes and MATSIM Volumes Link {link}')\n",
    "plt.xticks([r + bar_width / 2 for r in range(len(unique_hours))], unique_hours)\n",
    "plt.legend()\n",
    "\n",
    "plt.show()"
   ]
  }
 ],
 "metadata": {
  "kernelspec": {
   "display_name": "matsimenv",
   "language": "python",
   "name": "python3"
  },
  "language_info": {
   "codemirror_mode": {
    "name": "ipython",
    "version": 3
   },
   "file_extension": ".py",
   "mimetype": "text/x-python",
   "name": "python",
   "nbconvert_exporter": "python",
   "pygments_lexer": "ipython3",
   "version": "3.8.20"
  },
  "orig_nbformat": 4
 },
 "nbformat": 4,
 "nbformat_minor": 2
}
