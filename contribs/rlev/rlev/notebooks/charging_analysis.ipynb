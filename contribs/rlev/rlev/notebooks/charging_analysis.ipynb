{
 "cells": [
  {
   "cell_type": "code",
   "execution_count": 1,
   "metadata": {},
   "outputs": [],
   "source": [
    "import pandas as pd\n",
    "import matplotlib.pyplot as plt"
   ]
  },
  {
   "cell_type": "code",
   "execution_count": 2,
   "metadata": {},
   "outputs": [],
   "source": [
    "results_path = \"/home/isaacp/repos/EvMatsim/contribs/rlev/i-15-results/i-15-1-percent-early-fail\"\n",
    "\n",
    "initial_charge = pd.read_csv(\n",
    "    results_path + \"/initialoutput/output/ITERS/it.0/0.average_charge_time_profiles.txt\",\n",
    "    sep=\"\\t\",\n",
    ")\n",
    "\n",
    "final_charge = pd.read_csv(\n",
    "    results_path + \"/bestoutput/output/ITERS/it.0/0.average_charge_time_profiles.txt\",\n",
    "    sep=\"\\t\",\n",
    ")"
   ]
  },
  {
   "cell_type": "code",
   "execution_count": 3,
   "metadata": {},
   "outputs": [
    {
     "data": {
      "text/html": [
       "<div>\n",
       "<style scoped>\n",
       "    .dataframe tbody tr th:only-of-type {\n",
       "        vertical-align: middle;\n",
       "    }\n",
       "\n",
       "    .dataframe tbody tr th {\n",
       "        vertical-align: top;\n",
       "    }\n",
       "\n",
       "    .dataframe thead th {\n",
       "        text-align: right;\n",
       "    }\n",
       "</style>\n",
       "<table border=\"1\" class=\"dataframe\">\n",
       "  <thead>\n",
       "    <tr style=\"text-align: right;\">\n",
       "      <th></th>\n",
       "      <th>time</th>\n",
       "      <th>EV_100.0kWh</th>\n",
       "      <th>all vehicles</th>\n",
       "    </tr>\n",
       "  </thead>\n",
       "  <tbody>\n",
       "    <tr>\n",
       "      <th>0</th>\n",
       "      <td>00:00</td>\n",
       "      <td>0.000000</td>\n",
       "      <td>0.000000</td>\n",
       "    </tr>\n",
       "    <tr>\n",
       "      <th>1</th>\n",
       "      <td>00:01</td>\n",
       "      <td>0.000000</td>\n",
       "      <td>0.000000</td>\n",
       "    </tr>\n",
       "    <tr>\n",
       "      <th>2</th>\n",
       "      <td>00:02</td>\n",
       "      <td>0.000000</td>\n",
       "      <td>0.000000</td>\n",
       "    </tr>\n",
       "    <tr>\n",
       "      <th>3</th>\n",
       "      <td>00:03</td>\n",
       "      <td>0.000000</td>\n",
       "      <td>0.000000</td>\n",
       "    </tr>\n",
       "    <tr>\n",
       "      <th>4</th>\n",
       "      <td>00:04</td>\n",
       "      <td>0.000000</td>\n",
       "      <td>0.000000</td>\n",
       "    </tr>\n",
       "    <tr>\n",
       "      <th>...</th>\n",
       "      <td>...</td>\n",
       "      <td>...</td>\n",
       "      <td>...</td>\n",
       "    </tr>\n",
       "    <tr>\n",
       "      <th>95</th>\n",
       "      <td>01:35</td>\n",
       "      <td>0.135718</td>\n",
       "      <td>0.135718</td>\n",
       "    </tr>\n",
       "    <tr>\n",
       "      <th>96</th>\n",
       "      <td>01:36</td>\n",
       "      <td>0.137573</td>\n",
       "      <td>0.137573</td>\n",
       "    </tr>\n",
       "    <tr>\n",
       "      <th>97</th>\n",
       "      <td>01:37</td>\n",
       "      <td>0.139739</td>\n",
       "      <td>0.139739</td>\n",
       "    </tr>\n",
       "    <tr>\n",
       "      <th>98</th>\n",
       "      <td>01:38</td>\n",
       "      <td>0.141698</td>\n",
       "      <td>0.141698</td>\n",
       "    </tr>\n",
       "    <tr>\n",
       "      <th>99</th>\n",
       "      <td>01:39</td>\n",
       "      <td>0.143787</td>\n",
       "      <td>0.143787</td>\n",
       "    </tr>\n",
       "  </tbody>\n",
       "</table>\n",
       "<p>100 rows × 3 columns</p>\n",
       "</div>"
      ],
      "text/plain": [
       "     time  EV_100.0kWh  all vehicles\n",
       "0   00:00     0.000000      0.000000\n",
       "1   00:01     0.000000      0.000000\n",
       "2   00:02     0.000000      0.000000\n",
       "3   00:03     0.000000      0.000000\n",
       "4   00:04     0.000000      0.000000\n",
       "..    ...          ...           ...\n",
       "95  01:35     0.135718      0.135718\n",
       "96  01:36     0.137573      0.137573\n",
       "97  01:37     0.139739      0.139739\n",
       "98  01:38     0.141698      0.141698\n",
       "99  01:39     0.143787      0.143787\n",
       "\n",
       "[100 rows x 3 columns]"
      ]
     },
     "execution_count": 3,
     "metadata": {},
     "output_type": "execute_result"
    }
   ],
   "source": [
    "initial_charge.head(100)"
   ]
  },
  {
   "cell_type": "code",
   "execution_count": 4,
   "metadata": {},
   "outputs": [
    {
     "data": {
      "image/png": "[encoded data removed]",
      "text/plain": [
       "<Figure size 640x480 with 1 Axes>"
      ]
     },
     "metadata": {},
     "output_type": "display_data"
    }
   ],
   "source": [
    "plt.plot(\n",
    "    initial_charge[\"time\"],\n",
    "    initial_charge[\"EV_100.0kWh\"],\n",
    "    label=\"Initial Charge Profile\",\n",
    "    color=\"blue\",\n",
    ")\n",
    "plt.plot(\n",
    "    final_charge[\"time\"],\n",
    "    final_charge[\"EV_100.0kWh\"],\n",
    "    label=\"Final Charge Profile\",\n",
    "    color=\"orange\",\n",
    ")\n",
    "plt.xticks([])\n",
    "plt.legend()\n",
    "plt.show()"
   ]
  }
 ],
 "metadata": {
  "kernelspec": {
   "display_name": "ppomatsimenv",
   "language": "python",
   "name": "python3"
  },
  "language_info": {
   "codemirror_mode": {
    "name": "ipython",
    "version": 3
   },
   "file_extension": ".py",
   "mimetype": "text/x-python",
   "name": "python",
   "nbconvert_exporter": "python",
   "pygments_lexer": "ipython3",
   "version": "3.10.14"
  },
  "orig_nbformat": 4
 },
 "nbformat": 4,
 "nbformat_minor": 2
}
