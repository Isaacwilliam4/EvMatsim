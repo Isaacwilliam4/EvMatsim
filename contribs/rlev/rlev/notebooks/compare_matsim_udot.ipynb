{
 "cells": [
  {
   "cell_type": "code",
   "execution_count": 54,
   "metadata": {},
   "outputs": [],
   "source": [
    "import pandas as pd\n",
    "import matplotlib.pyplot as plt\n",
    "import numpy as np\n",
    "import seaborn as sns"
   ]
  },
  {
   "cell_type": "code",
   "execution_count": 55,
   "metadata": {},
   "outputs": [],
   "source": [
    "df = pd.read_csv(\"/home/isaacp/repos/EvMatsim/contribs/rlev/i-15-results/20250610_160808_850700/initialoutput/output/ITERS/it.0/0.countscompare.txt\", sep=\"\\t\")"
   ]
  },
  {
   "cell_type": "code",
   "execution_count": 56,
   "metadata": {},
   "outputs": [
    {
     "data": {
      "text/html": [
       "<div>\n",
       "<style scoped>\n",
       "    .dataframe tbody tr th:only-of-type {\n",
       "        vertical-align: middle;\n",
       "    }\n",
       "\n",
       "    .dataframe tbody tr th {\n",
       "        vertical-align: top;\n",
       "    }\n",
       "\n",
       "    .dataframe thead th {\n",
       "        text-align: right;\n",
       "    }\n",
       "</style>\n",
       "<table border=\"1\" class=\"dataframe\">\n",
       "  <thead>\n",
       "    <tr style=\"text-align: right;\">\n",
       "      <th></th>\n",
       "      <th>Link Id</th>\n",
       "      <th>Count Station Id</th>\n",
       "      <th>Hour</th>\n",
       "      <th>MATSIM volumes</th>\n",
       "      <th>Count volumes</th>\n",
       "      <th>Relative Error</th>\n",
       "      <th>Normalized Relative Error</th>\n",
       "      <th>GEH</th>\n",
       "    </tr>\n",
       "  </thead>\n",
       "  <tbody>\n",
       "    <tr>\n",
       "      <th>0</th>\n",
       "      <td>1000</td>\n",
       "      <td>23103138</td>\n",
       "      <td>1</td>\n",
       "      <td>3</td>\n",
       "      <td>173</td>\n",
       "      <td>-0.983</td>\n",
       "      <td>0.983</td>\n",
       "      <td>18.122</td>\n",
       "    </tr>\n",
       "    <tr>\n",
       "      <th>1</th>\n",
       "      <td>1000</td>\n",
       "      <td>23103138</td>\n",
       "      <td>2</td>\n",
       "      <td>6</td>\n",
       "      <td>90</td>\n",
       "      <td>-0.933</td>\n",
       "      <td>0.933</td>\n",
       "      <td>12.124</td>\n",
       "    </tr>\n",
       "    <tr>\n",
       "      <th>2</th>\n",
       "      <td>1000</td>\n",
       "      <td>23103138</td>\n",
       "      <td>3</td>\n",
       "      <td>9</td>\n",
       "      <td>51</td>\n",
       "      <td>-0.824</td>\n",
       "      <td>0.824</td>\n",
       "      <td>7.668</td>\n",
       "    </tr>\n",
       "    <tr>\n",
       "      <th>3</th>\n",
       "      <td>1000</td>\n",
       "      <td>23103138</td>\n",
       "      <td>4</td>\n",
       "      <td>7</td>\n",
       "      <td>40</td>\n",
       "      <td>-0.825</td>\n",
       "      <td>0.825</td>\n",
       "      <td>6.807</td>\n",
       "    </tr>\n",
       "    <tr>\n",
       "      <th>4</th>\n",
       "      <td>1000</td>\n",
       "      <td>23103138</td>\n",
       "      <td>5</td>\n",
       "      <td>4</td>\n",
       "      <td>62</td>\n",
       "      <td>-0.935</td>\n",
       "      <td>0.935</td>\n",
       "      <td>10.097</td>\n",
       "    </tr>\n",
       "  </tbody>\n",
       "</table>\n",
       "</div>"
      ],
      "text/plain": [
       "   Link Id  Count Station Id  Hour  MATSIM volumes  Count volumes  \\\n",
       "0     1000          23103138     1               3            173   \n",
       "1     1000          23103138     2               6             90   \n",
       "2     1000          23103138     3               9             51   \n",
       "3     1000          23103138     4               7             40   \n",
       "4     1000          23103138     5               4             62   \n",
       "\n",
       "   Relative Error  Normalized Relative Error     GEH  \n",
       "0          -0.983                      0.983  18.122  \n",
       "1          -0.933                      0.933  12.124  \n",
       "2          -0.824                      0.824   7.668  \n",
       "3          -0.825                      0.825   6.807  \n",
       "4          -0.935                      0.935  10.097  "
      ]
     },
     "execution_count": 56,
     "metadata": {},
     "output_type": "execute_result"
    }
   ],
   "source": [
    "df.head()"
   ]
  },
  {
   "cell_type": "code",
   "execution_count": 57,
   "metadata": {},
   "outputs": [],
   "source": [
    "# divide by 100 to get the 1 percent sample we trained for\n",
    "df['Count volumes'] = df['Count volumes'] / 100"
   ]
  },
  {
   "cell_type": "code",
   "execution_count": 58,
   "metadata": {},
   "outputs": [
    {
     "name": "stdout",
     "output_type": "stream",
     "text": [
      "Minimum MAPE: 40.34% on link 1242\n",
      "Maximum MAPE: 6497.05% on link 422\n"
     ]
    }
   ],
   "source": [
    "link_ids = df[\"Link Id\"].unique()\n",
    "\n",
    "min_mape = np.inf\n",
    "min_mape_link = None\n",
    "max_mape = -np.inf\n",
    "max_mape_link = None\n",
    "\n",
    "for link_id in link_ids:\n",
    "    link_df = df[df[\"Link Id\"] == link_id]\n",
    "    actual = link_df[\"Count volumes\"].values\n",
    "    predicted = link_df[\"MATSIM volumes\"].values\n",
    "    mask = actual != 0\n",
    "    if np.any(mask):\n",
    "        mape = np.mean(np.abs((predicted[mask] - actual[mask]) / actual[mask])) * 100\n",
    "\n",
    "        if mape < min_mape:\n",
    "            min_mape = mape\n",
    "            min_mape_link = link_id\n",
    "        if mape > max_mape:\n",
    "            max_mape = mape\n",
    "            max_mape_link = link_id\n",
    "\n",
    "print(f\"Minimum MAPE: {min_mape:.2f}% on link {min_mape_link}\")\n",
    "print(f\"Maximum MAPE: {max_mape:.2f}% on link {max_mape_link}\")\n"
   ]
  },
  {
   "cell_type": "code",
   "execution_count": 65,
   "metadata": {},
   "outputs": [
    {
     "data": {
      "image/png": "[encoded data removed]",
      "text/plain": [
       "<Figure size 1200x600 with 1 Axes>"
      ]
     },
     "metadata": {},
     "output_type": "display_data"
    }
   ],
   "source": [
    "link = 1242\n",
    "df_link = df[df[\"Link Id\"] == link]\n",
    "\n",
    "unique_hours = pd.unique(df_link[\"Hour\"])\n",
    "bar_width = 0.5  # Width of each bar\n",
    "\n",
    "# X positions for each set of bars\n",
    "r1 = np.arange(len(unique_hours))\n",
    "r2 = [x + bar_width for x in r1]\n",
    "\n",
    "\n",
    "plt.figure(figsize=(12, 6))\n",
    "\n",
    "plt.bar(\n",
    "    r1, df_link[\"MATSIM volumes\"], color=\"blue\", width=bar_width, label=\"MATSIM\"\n",
    ")\n",
    "plt.bar(\n",
    "    r2, df_link[\"Count volumes\"], color=\"red\", width=bar_width, label=\"UTA\"\n",
    ")\n",
    "\n",
    "# Plot MATSIM volumes histogram\n",
    "\n",
    "# Labels, title, and legend\n",
    "plt.xlabel(\"Hour\")\n",
    "plt.ylabel(\"Volumes\")\n",
    "plt.xticks([r + (bar_width / 2) for r in range(len(unique_hours))], unique_hours)\n",
    "plt.legend()\n",
    "\n",
    "plt.savefig(\"./best_flow.pdf\")"
   ]
  }
 ],
 "metadata": {
  "kernelspec": {
   "display_name": "ppomatsimenv",
   "language": "python",
   "name": "python3"
  },
  "language_info": {
   "codemirror_mode": {
    "name": "ipython",
    "version": 3
   },
   "file_extension": ".py",
   "mimetype": "text/x-python",
   "name": "python",
   "nbconvert_exporter": "python",
   "pygments_lexer": "ipython3",
   "version": "3.10.14"
  },
  "orig_nbformat": 4
 },
 "nbformat": 4,
 "nbformat_minor": 2
}
