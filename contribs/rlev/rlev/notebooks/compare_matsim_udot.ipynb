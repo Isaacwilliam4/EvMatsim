{
 "cells": [
  {
   "cell_type": "code",
   "execution_count": 1,
   "metadata": {},
   "outputs": [],
   "source": [
    "import pandas as pd\n",
    "import matplotlib.pyplot as plt\n",
    "import numpy as np\n",
    "import seaborn as sns"
   ]
  },
  {
   "cell_type": "code",
   "execution_count": 2,
   "metadata": {},
   "outputs": [],
   "source": [
    "df = pd.read_csv(\"/home/isaacp/repos/EvMatsim/contribs/rlev/i-15-results/i-15-1-percent-early-fail/initialoutput/output/ITERS/it.0/0.countscompare.txt\", sep=\"\\t\")"
   ]
  },
  {
   "cell_type": "code",
   "execution_count": 3,
   "metadata": {},
   "outputs": [
    {
     "data": {
      "text/html": [
       "<div>\n",
       "<style scoped>\n",
       "    .dataframe tbody tr th:only-of-type {\n",
       "        vertical-align: middle;\n",
       "    }\n",
       "\n",
       "    .dataframe tbody tr th {\n",
       "        vertical-align: top;\n",
       "    }\n",
       "\n",
       "    .dataframe thead th {\n",
       "        text-align: right;\n",
       "    }\n",
       "</style>\n",
       "<table border=\"1\" class=\"dataframe\">\n",
       "  <thead>\n",
       "    <tr style=\"text-align: right;\">\n",
       "      <th></th>\n",
       "      <th>Link Id</th>\n",
       "      <th>Count Station Id</th>\n",
       "      <th>Hour</th>\n",
       "      <th>MATSIM volumes</th>\n",
       "      <th>Count volumes</th>\n",
       "      <th>Relative Error</th>\n",
       "      <th>Normalized Relative Error</th>\n",
       "      <th>GEH</th>\n",
       "    </tr>\n",
       "  </thead>\n",
       "  <tbody>\n",
       "    <tr>\n",
       "      <th>0</th>\n",
       "      <td>1000</td>\n",
       "      <td>23103138</td>\n",
       "      <td>1</td>\n",
       "      <td>15</td>\n",
       "      <td>173</td>\n",
       "      <td>-0.913</td>\n",
       "      <td>0.913</td>\n",
       "      <td>16.296</td>\n",
       "    </tr>\n",
       "    <tr>\n",
       "      <th>1</th>\n",
       "      <td>1000</td>\n",
       "      <td>23103138</td>\n",
       "      <td>2</td>\n",
       "      <td>30</td>\n",
       "      <td>90</td>\n",
       "      <td>-0.667</td>\n",
       "      <td>0.667</td>\n",
       "      <td>7.746</td>\n",
       "    </tr>\n",
       "    <tr>\n",
       "      <th>2</th>\n",
       "      <td>1000</td>\n",
       "      <td>23103138</td>\n",
       "      <td>3</td>\n",
       "      <td>45</td>\n",
       "      <td>51</td>\n",
       "      <td>-0.118</td>\n",
       "      <td>0.118</td>\n",
       "      <td>0.866</td>\n",
       "    </tr>\n",
       "    <tr>\n",
       "      <th>3</th>\n",
       "      <td>1000</td>\n",
       "      <td>23103138</td>\n",
       "      <td>4</td>\n",
       "      <td>35</td>\n",
       "      <td>40</td>\n",
       "      <td>-0.125</td>\n",
       "      <td>0.125</td>\n",
       "      <td>0.816</td>\n",
       "    </tr>\n",
       "    <tr>\n",
       "      <th>4</th>\n",
       "      <td>1000</td>\n",
       "      <td>23103138</td>\n",
       "      <td>5</td>\n",
       "      <td>20</td>\n",
       "      <td>62</td>\n",
       "      <td>-0.677</td>\n",
       "      <td>0.677</td>\n",
       "      <td>6.559</td>\n",
       "    </tr>\n",
       "  </tbody>\n",
       "</table>\n",
       "</div>"
      ],
      "text/plain": [
       "   Link Id  Count Station Id  Hour  MATSIM volumes  Count volumes  \\\n",
       "0     1000          23103138     1              15            173   \n",
       "1     1000          23103138     2              30             90   \n",
       "2     1000          23103138     3              45             51   \n",
       "3     1000          23103138     4              35             40   \n",
       "4     1000          23103138     5              20             62   \n",
       "\n",
       "   Relative Error  Normalized Relative Error     GEH  \n",
       "0          -0.913                      0.913  16.296  \n",
       "1          -0.667                      0.667   7.746  \n",
       "2          -0.118                      0.118   0.866  \n",
       "3          -0.125                      0.125   0.816  \n",
       "4          -0.677                      0.677   6.559  "
      ]
     },
     "execution_count": 3,
     "metadata": {},
     "output_type": "execute_result"
    }
   ],
   "source": [
    "df.head()"
   ]
  },
  {
   "cell_type": "code",
   "execution_count": 4,
   "metadata": {},
   "outputs": [
    {
     "data": {
      "text/plain": [
       "Link Id                       2076.0\n",
       "Count Station Id             99537.0\n",
       "Hour                             8.0\n",
       "MATSIM volumes                 310.0\n",
       "Count volumes                  310.0\n",
       "Relative Error                   0.0\n",
       "Normalized Relative Error        0.0\n",
       "GEH                              0.0\n",
       "Name: 2143, dtype: float64"
      ]
     },
     "execution_count": 4,
     "metadata": {},
     "output_type": "execute_result"
    }
   ],
   "source": [
    "minidx = np.argmin(np.abs(df['Relative Error'].values)) \n",
    "df.iloc[minidx]"
   ]
  },
  {
   "cell_type": "code",
   "execution_count": 9,
   "metadata": {},
   "outputs": [
    {
     "data": {
      "text/plain": [
       "Link Id                      4.220000e+02\n",
       "Count Station Id             2.310394e+07\n",
       "Hour                         2.400000e+01\n",
       "MATSIM volumes               2.000000e+02\n",
       "Count volumes                1.900000e+01\n",
       "Relative Error               9.526000e+00\n",
       "Normalized Relative Error    9.050000e-01\n",
       "GEH                          1.729700e+01\n",
       "Name: 2855, dtype: float64"
      ]
     },
     "execution_count": 9,
     "metadata": {},
     "output_type": "execute_result"
    }
   ],
   "source": [
    "maxidx = np.argmax(np.abs(df['Relative Error'].values)) \n",
    "df.iloc[maxidx]"
   ]
  },
  {
   "cell_type": "code",
   "execution_count": 5,
   "metadata": {},
   "outputs": [],
   "source": [
    "optimized_hour_sum = df.groupby(\"Hour\")[\"Count volumes\"].sum()"
   ]
  },
  {
   "cell_type": "code",
   "execution_count": 21,
   "metadata": {},
   "outputs": [
    {
     "data": {
      "image/png": "[encoded data removed]",
      "text/plain": [
       "<Figure size 1200x600 with 1 Axes>"
      ]
     },
     "metadata": {},
     "output_type": "display_data"
    }
   ],
   "source": [
    "link = 422\n",
    "df_link = df[df[\"Link Id\"] == link]\n",
    "\n",
    "unique_hours = pd.unique(df_link[\"Hour\"])\n",
    "bar_width = 0.5  # Width of each bar\n",
    "\n",
    "# X positions for each set of bars\n",
    "r1 = np.arange(len(unique_hours))\n",
    "r2 = [x + bar_width for x in r1]\n",
    "\n",
    "\n",
    "plt.figure(figsize=(12, 6))\n",
    "\n",
    "plt.bar(\n",
    "    r1, df_link[\"MATSIM volumes\"], color=\"blue\", width=bar_width, label=\"MATSIM\"\n",
    ")\n",
    "plt.bar(\n",
    "    r2, df_link[\"Count volumes\"], color=\"red\", width=bar_width, label=\"UTA\"\n",
    ")\n",
    "\n",
    "# Plot MATSIM volumes histogram\n",
    "\n",
    "# Labels, title, and legend\n",
    "plt.xlabel(\"Hour\")\n",
    "plt.ylabel(\"Volumes\")\n",
    "plt.xticks([r + (bar_width / 2) for r in range(len(unique_hours))], unique_hours)\n",
    "plt.legend()\n",
    "\n",
    "plt.savefig(\"./worst_flow.pdf\")"
   ]
  }
 ],
 "metadata": {
  "kernelspec": {
   "display_name": "ppomatsimenv",
   "language": "python",
   "name": "python3"
  },
  "language_info": {
   "codemirror_mode": {
    "name": "ipython",
    "version": 3
   },
   "file_extension": ".py",
   "mimetype": "text/x-python",
   "name": "python",
   "nbconvert_exporter": "python",
   "pygments_lexer": "ipython3",
   "version": "3.10.14"
  },
  "orig_nbformat": 4
 },
 "nbformat": 4,
 "nbformat_minor": 2
}
