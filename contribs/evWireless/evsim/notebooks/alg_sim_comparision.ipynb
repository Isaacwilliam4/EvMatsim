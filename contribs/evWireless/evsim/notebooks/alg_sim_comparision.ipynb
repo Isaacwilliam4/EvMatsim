{
 "cells": [
  {
   "cell_type": "code",
   "execution_count": 8,
   "id": "0a2b2bef",
   "metadata": {},
   "outputs": [],
   "source": [
    "import matplotlib.pyplot as plt\n",
    "import seaborn as sns\n",
    "import networkx as nx\n",
    "from evsim.classes.flowsim_dataset import FlowSimDataset\n",
    "import matplotlib.colors as mcolors\n",
    "import itertools\n",
    "import matplotlib.pyplot as plt\n",
    "import seaborn as sns\n",
    "import torch\n",
    "sns.set_style(\"whitegrid\")\n",
    "sns.set_palette(\"muted\")"
   ]
  },
  {
   "cell_type": "code",
   "execution_count": 9,
   "id": "d3639772",
   "metadata": {},
   "outputs": [],
   "source": [
    "dataset = FlowSimDataset(\n",
    "    \"/home/isaacp/repos/EvMatsim/contribs/ev/scenario_examples/utah_flow_scenario_example/utahnetwork.xml\",\n",
    "    \"/home/isaacp/repos/EvMatsim/contribs/ev/scenario_examples/utah_flow_scenario_example/utahcounts.xml\",\n",
    "    100,\n",
    ")"
   ]
  },
  {
   "cell_type": "code",
   "execution_count": 10,
   "id": "b3cca085",
   "metadata": {},
   "outputs": [
    {
     "name": "stderr",
     "output_type": "stream",
     "text": [
      "/tmp/ipykernel_3781864/2236207792.py:1: FutureWarning: You are using `torch.load` with `weights_only=False` (the current default value), which uses the default pickle module implicitly. It is possible to construct malicious pickle data which will execute arbitrary code during unpickling (See https://github.com/pytorch/pytorch/blob/main/SECURITY.md#untrusted-models for more details). In a future release, the default value for `weights_only` will be flipped to `True`. This limits the functions that could be executed during unpickling. Arbitrary objects will no longer be allowed to be loaded via this mode unless they are explicitly allowlisted by the user via `torch.serialization.add_safe_globals`. We recommend you start setting `weights_only=True` for any use case where you don't have full control of the loaded file. Please open an issue on GitHub for any issues related to this experimental feature.\n",
      "  best_flow = torch.load(\n"
     ]
    }
   ],
   "source": [
    "best_flow = torch.load(\n",
    "    \"/home/isaacp/repos/EvMatsim/contribs/ev/evsim/gradient_flow_matching/utah_flow_results/0425144015_nclusters_500_utahnetwork/best_flows.pt\"\n",
    ")['W']"
   ]
  },
  {
   "cell_type": "code",
   "execution_count": 11,
   "id": "4070d047",
   "metadata": {},
   "outputs": [
    {
     "data": {
      "text/plain": [
       "tensor([[   0,    0,    0,  ...,    0,    0,    0],\n",
       "        [   0,    0,    0,  ...,    0,    0,    0],\n",
       "        [ 127,   86,   75,  ...,  333,  267,  190],\n",
       "        ...,\n",
       "        [   0,    0,    0,  ...,    0,    0,    0],\n",
       "        [   0,    0,    0,  ...,    0,    0,    0],\n",
       "        [ 234,  129,   74,  ..., 1012,  718,  417]])"
      ]
     },
     "execution_count": 11,
     "metadata": {},
     "output_type": "execute_result"
    }
   ],
   "source": [
    "target_flow = dataset.target_graph.edge_attr\n",
    "target_flow"
   ]
  },
  {
   "cell_type": "code",
   "execution_count": 12,
   "id": "577dc058",
   "metadata": {},
   "outputs": [
    {
     "data": {
      "text/plain": [
       "tensor([[ 2.9294e-02,  9.2857e-01,  6.3810e-01,  ...,  9.7853e-01,\n",
       "          4.9599e-01,  2.6657e-01],\n",
       "        [ 5.2610e-05, -1.7661e-08,  1.6955e-04,  ..., -1.8118e-04,\n",
       "          9.9200e-05,  1.2620e-04],\n",
       "        [ 5.2634e-05,  7.5829e-05,  1.7629e-04,  ...,  1.4455e-05,\n",
       "          1.2729e-04,  1.0076e-04],\n",
       "        ...,\n",
       "        [ 6.8829e-05,  2.3263e-09,  1.1404e-04,  ...,  3.8251e-06,\n",
       "          1.3344e-04,  1.4800e-04],\n",
       "        [-9.9886e-04, -1.0009e-03, -9.9931e-04,  ..., -1.0003e-03,\n",
       "         -9.9914e-04, -1.0011e-03],\n",
       "        [ 4.1348e-01,  6.4958e-02,  8.7186e-01,  ...,  8.4349e-01,\n",
       "          2.9602e-02,  7.4728e-01]], device='cuda:0', requires_grad=True)"
      ]
     },
     "execution_count": 12,
     "metadata": {},
     "output_type": "execute_result"
    }
   ],
   "source": [
    "best_flow"
   ]
  },
  {
   "cell_type": "code",
   "execution_count": 13,
   "id": "1dd3e840",
   "metadata": {},
   "outputs": [
    {
     "ename": "RuntimeError",
     "evalue": "The size of tensor a (250000) must match the size of tensor b (5236) at non-singleton dimension 0",
     "output_type": "error",
     "traceback": [
      "\u001b[0;31m---------------------------------------------------------------------------\u001b[0m",
      "\u001b[0;31mRuntimeError\u001b[0m                              Traceback (most recent call last)",
      "Cell \u001b[0;32mIn[13], line 1\u001b[0m\n\u001b[0;32m----> 1\u001b[0m diff \u001b[38;5;241m=\u001b[39m \u001b[43mbest_flow\u001b[49m\u001b[43m \u001b[49m\u001b[38;5;241;43m-\u001b[39;49m\u001b[43m \u001b[49m\u001b[43mtarget_flow\u001b[49m\n\u001b[1;32m      2\u001b[0m torch\u001b[38;5;241m.\u001b[39margmin(diff\u001b[38;5;241m.\u001b[39msum(dim\u001b[38;5;241m=\u001b[39m\u001b[38;5;241m1\u001b[39m))\n",
      "\u001b[0;31mRuntimeError\u001b[0m: The size of tensor a (250000) must match the size of tensor b (5236) at non-singleton dimension 0"
     ]
    }
   ],
   "source": [
    "diff = best_flow - target_flow\n",
    "torch.argmin(diff.sum(dim=1))"
   ]
  }
 ],
 "metadata": {
  "kernelspec": {
   "display_name": "matsimenv",
   "language": "python",
   "name": "python3"
  },
  "language_info": {
   "codemirror_mode": {
    "name": "ipython",
    "version": 3
   },
   "file_extension": ".py",
   "mimetype": "text/x-python",
   "name": "python",
   "nbconvert_exporter": "python",
   "pygments_lexer": "ipython3",
   "version": "3.10.14"
  }
 },
 "nbformat": 4,
 "nbformat_minor": 5
}
